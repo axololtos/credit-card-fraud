{
 "cells": [
  {
   "cell_type": "code",
   "execution_count": 1,
   "id": "fadf259a",
   "metadata": {
    "_cell_guid": "b1076dfc-b9ad-4769-8c92-a6c4dae69d19",
    "_uuid": "8f2839f25d086af736a60e9eeb907d3b93b6e0e5",
    "execution": {
     "iopub.execute_input": "2024-08-16T19:18:39.499686Z",
     "iopub.status.busy": "2024-08-16T19:18:39.499232Z",
     "iopub.status.idle": "2024-08-16T19:18:40.504176Z",
     "shell.execute_reply": "2024-08-16T19:18:40.502853Z"
    },
    "papermill": {
     "duration": 1.02146,
     "end_time": "2024-08-16T19:18:40.507133",
     "exception": false,
     "start_time": "2024-08-16T19:18:39.485673",
     "status": "completed"
    },
    "tags": []
   },
   "outputs": [
    {
     "name": "stdout",
     "output_type": "stream",
     "text": [
      "/kaggle/input/credit-card-fraud/card_transdata.csv\n",
      "/kaggle/input/credit-card-transcdata/card_transdata.csv\n",
      "/kaggle/input/credit-card-transdata/card_transdata.csv\n"
     ]
    }
   ],
   "source": [
    "# This Python 3 environment comes with many helpful analytics libraries installed\n",
    "# It is defined by the kaggle/python Docker image: https://github.com/kaggle/docker-python\n",
    "# For example, here's several helpful packages to load\n",
    "\n",
    "import numpy as np # linear algebra\n",
    "import pandas as pd # data processing, CSV file I/O (e.g. pd.read_csv)\n",
    "\n",
    "# Input data files are available in the read-only \"../input/\" directory\n",
    "# For example, running this (by clicking run or pressing Shift+Enter) will list all files under the input directory\n",
    "\n",
    "import os\n",
    "for dirname, _, filenames in os.walk('/kaggle/input'):\n",
    "    for filename in filenames:\n",
    "        print(os.path.join(dirname, filename))\n",
    "\n",
    "# You can write up to 20GB to the current directory (/kaggle/working/) that gets preserved as output when you create a version using \"Save & Run All\" \n",
    "# You can also write temporary files to /kaggle/temp/, but they won't be saved outside of the current session"
   ]
  },
  {
   "cell_type": "markdown",
   "id": "66d9b726",
   "metadata": {
    "papermill": {
     "duration": 0.010068,
     "end_time": "2024-08-16T19:18:40.528041",
     "exception": false,
     "start_time": "2024-08-16T19:18:40.517973",
     "status": "completed"
    },
    "tags": []
   },
   "source": [
    "# # **Importing libraries**"
   ]
  },
  {
   "cell_type": "code",
   "execution_count": 2,
   "id": "55b77269",
   "metadata": {
    "collapsed": true,
    "execution": {
     "iopub.execute_input": "2024-08-16T19:18:40.551193Z",
     "iopub.status.busy": "2024-08-16T19:18:40.550605Z",
     "iopub.status.idle": "2024-08-16T19:21:12.738397Z",
     "shell.execute_reply": "2024-08-16T19:21:12.737053Z"
    },
    "jupyter": {
     "outputs_hidden": true
    },
    "papermill": {
     "duration": 152.202686,
     "end_time": "2024-08-16T19:21:12.741322",
     "exception": false,
     "start_time": "2024-08-16T19:18:40.538636",
     "status": "completed"
    },
    "tags": []
   },
   "outputs": [
    {
     "name": "stdout",
     "output_type": "stream",
     "text": [
      "\u001b[33mWARNING: Retrying (Retry(total=4, connect=None, read=None, redirect=None, status=None)) after connection broken by 'NewConnectionError('<pip._vendor.urllib3.connection.HTTPSConnection object at 0x79a3e98c8370>: Failed to establish a new connection: [Errno -3] Temporary failure in name resolution')': /simple/imblearn/\u001b[0m\u001b[33m\r\n",
      "\u001b[0m\u001b[33mWARNING: Retrying (Retry(total=3, connect=None, read=None, redirect=None, status=None)) after connection broken by 'NewConnectionError('<pip._vendor.urllib3.connection.HTTPSConnection object at 0x79a3e98c8670>: Failed to establish a new connection: [Errno -3] Temporary failure in name resolution')': /simple/imblearn/\u001b[0m\u001b[33m\r\n",
      "\u001b[0m\u001b[33mWARNING: Retrying (Retry(total=2, connect=None, read=None, redirect=None, status=None)) after connection broken by 'NewConnectionError('<pip._vendor.urllib3.connection.HTTPSConnection object at 0x79a3e98c8910>: Failed to establish a new connection: [Errno -3] Temporary failure in name resolution')': /simple/imblearn/\u001b[0m\u001b[33m\r\n",
      "\u001b[0m\u001b[33mWARNING: Retrying (Retry(total=1, connect=None, read=None, redirect=None, status=None)) after connection broken by 'NewConnectionError('<pip._vendor.urllib3.connection.HTTPSConnection object at 0x79a3e98c8ac0>: Failed to establish a new connection: [Errno -3] Temporary failure in name resolution')': /simple/imblearn/\u001b[0m\u001b[33m\r\n",
      "\u001b[0m\u001b[33mWARNING: Retrying (Retry(total=0, connect=None, read=None, redirect=None, status=None)) after connection broken by 'NewConnectionError('<pip._vendor.urllib3.connection.HTTPSConnection object at 0x79a3e98c8c70>: Failed to establish a new connection: [Errno -3] Temporary failure in name resolution')': /simple/imblearn/\u001b[0m\u001b[33m\r\n",
      "\u001b[0m\u001b[31mERROR: Could not find a version that satisfies the requirement imblearn (from versions: none)\u001b[0m\u001b[31m\r\n",
      "\u001b[0m\u001b[31mERROR: No matching distribution found for imblearn\u001b[0m\u001b[31m\r\n",
      "\u001b[0m"
     ]
    }
   ],
   "source": [
    "import pandas as pd\n",
    "import numpy as np\n",
    "from sklearn.metrics import ConfusionMatrixDisplay\n",
    "from sklearn.linear_model import LogisticRegression\n",
    "import matplotlib.pyplot as plt\n",
    "from sklearn.model_selection import train_test_split\n",
    "from sklearn.metrics import classification_report\n",
    "from sklearn.tree import DecisionTreeClassifier\n",
    "from sklearn.metrics import confusion_matrix\n",
    "from sklearn.model_selection import GridSearchCV\n",
    "!pip install imblearn\n",
    "from sklearn.preprocessing import StandardScaler\n",
    "from imblearn.over_sampling import SMOTE\n",
    "from sklearn import metrics"
   ]
  },
  {
   "cell_type": "code",
   "execution_count": 3,
   "id": "7dcd36ea",
   "metadata": {
    "execution": {
     "iopub.execute_input": "2024-08-16T19:21:12.765590Z",
     "iopub.status.busy": "2024-08-16T19:21:12.764942Z",
     "iopub.status.idle": "2024-08-16T19:21:14.937356Z",
     "shell.execute_reply": "2024-08-16T19:21:14.936187Z"
    },
    "papermill": {
     "duration": 2.187662,
     "end_time": "2024-08-16T19:21:14.940044",
     "exception": false,
     "start_time": "2024-08-16T19:21:12.752382",
     "status": "completed"
    },
    "tags": []
   },
   "outputs": [
    {
     "data": {
      "text/html": [
       "<div>\n",
       "<style scoped>\n",
       "    .dataframe tbody tr th:only-of-type {\n",
       "        vertical-align: middle;\n",
       "    }\n",
       "\n",
       "    .dataframe tbody tr th {\n",
       "        vertical-align: top;\n",
       "    }\n",
       "\n",
       "    .dataframe thead th {\n",
       "        text-align: right;\n",
       "    }\n",
       "</style>\n",
       "<table border=\"1\" class=\"dataframe\">\n",
       "  <thead>\n",
       "    <tr style=\"text-align: right;\">\n",
       "      <th></th>\n",
       "      <th>distance_from_home</th>\n",
       "      <th>distance_from_last_transaction</th>\n",
       "      <th>ratio_to_median_purchase_price</th>\n",
       "      <th>repeat_retailer</th>\n",
       "      <th>used_chip</th>\n",
       "      <th>used_pin_number</th>\n",
       "      <th>online_order</th>\n",
       "      <th>fraud</th>\n",
       "    </tr>\n",
       "  </thead>\n",
       "  <tbody>\n",
       "    <tr>\n",
       "      <th>0</th>\n",
       "      <td>57.877857</td>\n",
       "      <td>0.311140</td>\n",
       "      <td>1.945940</td>\n",
       "      <td>1.0</td>\n",
       "      <td>1.0</td>\n",
       "      <td>0.0</td>\n",
       "      <td>0.0</td>\n",
       "      <td>0.0</td>\n",
       "    </tr>\n",
       "    <tr>\n",
       "      <th>1</th>\n",
       "      <td>10.829943</td>\n",
       "      <td>0.175592</td>\n",
       "      <td>1.294219</td>\n",
       "      <td>1.0</td>\n",
       "      <td>0.0</td>\n",
       "      <td>0.0</td>\n",
       "      <td>0.0</td>\n",
       "      <td>0.0</td>\n",
       "    </tr>\n",
       "    <tr>\n",
       "      <th>2</th>\n",
       "      <td>5.091079</td>\n",
       "      <td>0.805153</td>\n",
       "      <td>0.427715</td>\n",
       "      <td>1.0</td>\n",
       "      <td>0.0</td>\n",
       "      <td>0.0</td>\n",
       "      <td>1.0</td>\n",
       "      <td>0.0</td>\n",
       "    </tr>\n",
       "    <tr>\n",
       "      <th>3</th>\n",
       "      <td>2.247564</td>\n",
       "      <td>5.600044</td>\n",
       "      <td>0.362663</td>\n",
       "      <td>1.0</td>\n",
       "      <td>1.0</td>\n",
       "      <td>0.0</td>\n",
       "      <td>1.0</td>\n",
       "      <td>0.0</td>\n",
       "    </tr>\n",
       "    <tr>\n",
       "      <th>4</th>\n",
       "      <td>44.190936</td>\n",
       "      <td>0.566486</td>\n",
       "      <td>2.222767</td>\n",
       "      <td>1.0</td>\n",
       "      <td>1.0</td>\n",
       "      <td>0.0</td>\n",
       "      <td>1.0</td>\n",
       "      <td>0.0</td>\n",
       "    </tr>\n",
       "  </tbody>\n",
       "</table>\n",
       "</div>"
      ],
      "text/plain": [
       "   distance_from_home  distance_from_last_transaction  \\\n",
       "0           57.877857                        0.311140   \n",
       "1           10.829943                        0.175592   \n",
       "2            5.091079                        0.805153   \n",
       "3            2.247564                        5.600044   \n",
       "4           44.190936                        0.566486   \n",
       "\n",
       "   ratio_to_median_purchase_price  repeat_retailer  used_chip  \\\n",
       "0                        1.945940              1.0        1.0   \n",
       "1                        1.294219              1.0        0.0   \n",
       "2                        0.427715              1.0        0.0   \n",
       "3                        0.362663              1.0        1.0   \n",
       "4                        2.222767              1.0        1.0   \n",
       "\n",
       "   used_pin_number  online_order  fraud  \n",
       "0              0.0           0.0    0.0  \n",
       "1              0.0           0.0    0.0  \n",
       "2              0.0           1.0    0.0  \n",
       "3              0.0           1.0    0.0  \n",
       "4              0.0           1.0    0.0  "
      ]
     },
     "execution_count": 3,
     "metadata": {},
     "output_type": "execute_result"
    }
   ],
   "source": [
    "df=pd.read_csv('/kaggle/input/credit-card-fraud/card_transdata.csv')\n",
    "df.head()"
   ]
  },
  {
   "cell_type": "markdown",
   "id": "32b71c27",
   "metadata": {
    "papermill": {
     "duration": 0.012331,
     "end_time": "2024-08-16T19:21:14.963672",
     "exception": false,
     "start_time": "2024-08-16T19:21:14.951341",
     "status": "completed"
    },
    "tags": []
   },
   "source": [
    "# # **Data exploration**"
   ]
  },
  {
   "cell_type": "code",
   "execution_count": 4,
   "id": "dd3a7399",
   "metadata": {
    "execution": {
     "iopub.execute_input": "2024-08-16T19:21:14.988063Z",
     "iopub.status.busy": "2024-08-16T19:21:14.987655Z",
     "iopub.status.idle": "2024-08-16T19:21:15.030674Z",
     "shell.execute_reply": "2024-08-16T19:21:15.029574Z"
    },
    "papermill": {
     "duration": 0.058709,
     "end_time": "2024-08-16T19:21:15.033667",
     "exception": false,
     "start_time": "2024-08-16T19:21:14.974958",
     "status": "completed"
    },
    "tags": []
   },
   "outputs": [
    {
     "name": "stdout",
     "output_type": "stream",
     "text": [
      "<class 'pandas.core.frame.DataFrame'>\n",
      "RangeIndex: 1000000 entries, 0 to 999999\n",
      "Data columns (total 8 columns):\n",
      " #   Column                          Non-Null Count    Dtype  \n",
      "---  ------                          --------------    -----  \n",
      " 0   distance_from_home              1000000 non-null  float64\n",
      " 1   distance_from_last_transaction  1000000 non-null  float64\n",
      " 2   ratio_to_median_purchase_price  1000000 non-null  float64\n",
      " 3   repeat_retailer                 1000000 non-null  float64\n",
      " 4   used_chip                       1000000 non-null  float64\n",
      " 5   used_pin_number                 1000000 non-null  float64\n",
      " 6   online_order                    1000000 non-null  float64\n",
      " 7   fraud                           1000000 non-null  float64\n",
      "dtypes: float64(8)\n",
      "memory usage: 61.0 MB\n"
     ]
    }
   ],
   "source": [
    "df.info()"
   ]
  },
  {
   "cell_type": "code",
   "execution_count": 5,
   "id": "3e15f806",
   "metadata": {
    "execution": {
     "iopub.execute_input": "2024-08-16T19:21:15.059034Z",
     "iopub.status.busy": "2024-08-16T19:21:15.058520Z",
     "iopub.status.idle": "2024-08-16T19:21:15.466731Z",
     "shell.execute_reply": "2024-08-16T19:21:15.465571Z"
    },
    "papermill": {
     "duration": 0.424233,
     "end_time": "2024-08-16T19:21:15.469349",
     "exception": false,
     "start_time": "2024-08-16T19:21:15.045116",
     "status": "completed"
    },
    "tags": []
   },
   "outputs": [
    {
     "data": {
      "text/html": [
       "<div>\n",
       "<style scoped>\n",
       "    .dataframe tbody tr th:only-of-type {\n",
       "        vertical-align: middle;\n",
       "    }\n",
       "\n",
       "    .dataframe tbody tr th {\n",
       "        vertical-align: top;\n",
       "    }\n",
       "\n",
       "    .dataframe thead th {\n",
       "        text-align: right;\n",
       "    }\n",
       "</style>\n",
       "<table border=\"1\" class=\"dataframe\">\n",
       "  <thead>\n",
       "    <tr style=\"text-align: right;\">\n",
       "      <th></th>\n",
       "      <th>distance_from_home</th>\n",
       "      <th>distance_from_last_transaction</th>\n",
       "      <th>ratio_to_median_purchase_price</th>\n",
       "      <th>repeat_retailer</th>\n",
       "      <th>used_chip</th>\n",
       "      <th>used_pin_number</th>\n",
       "      <th>online_order</th>\n",
       "      <th>fraud</th>\n",
       "    </tr>\n",
       "  </thead>\n",
       "  <tbody>\n",
       "    <tr>\n",
       "      <th>count</th>\n",
       "      <td>1000000.000000</td>\n",
       "      <td>1000000.000000</td>\n",
       "      <td>1000000.000000</td>\n",
       "      <td>1000000.000000</td>\n",
       "      <td>1000000.000000</td>\n",
       "      <td>1000000.000000</td>\n",
       "      <td>1000000.000000</td>\n",
       "      <td>1000000.000000</td>\n",
       "    </tr>\n",
       "    <tr>\n",
       "      <th>mean</th>\n",
       "      <td>26.628792</td>\n",
       "      <td>5.036519</td>\n",
       "      <td>1.824182</td>\n",
       "      <td>0.881536</td>\n",
       "      <td>0.350399</td>\n",
       "      <td>0.100608</td>\n",
       "      <td>0.650552</td>\n",
       "      <td>0.087403</td>\n",
       "    </tr>\n",
       "    <tr>\n",
       "      <th>std</th>\n",
       "      <td>65.390784</td>\n",
       "      <td>25.843093</td>\n",
       "      <td>2.799589</td>\n",
       "      <td>0.323157</td>\n",
       "      <td>0.477095</td>\n",
       "      <td>0.300809</td>\n",
       "      <td>0.476796</td>\n",
       "      <td>0.282425</td>\n",
       "    </tr>\n",
       "    <tr>\n",
       "      <th>min</th>\n",
       "      <td>0.004874</td>\n",
       "      <td>0.000118</td>\n",
       "      <td>0.004399</td>\n",
       "      <td>0.000000</td>\n",
       "      <td>0.000000</td>\n",
       "      <td>0.000000</td>\n",
       "      <td>0.000000</td>\n",
       "      <td>0.000000</td>\n",
       "    </tr>\n",
       "    <tr>\n",
       "      <th>25%</th>\n",
       "      <td>3.878008</td>\n",
       "      <td>0.296671</td>\n",
       "      <td>0.475673</td>\n",
       "      <td>1.000000</td>\n",
       "      <td>0.000000</td>\n",
       "      <td>0.000000</td>\n",
       "      <td>0.000000</td>\n",
       "      <td>0.000000</td>\n",
       "    </tr>\n",
       "    <tr>\n",
       "      <th>50%</th>\n",
       "      <td>9.967760</td>\n",
       "      <td>0.998650</td>\n",
       "      <td>0.997717</td>\n",
       "      <td>1.000000</td>\n",
       "      <td>0.000000</td>\n",
       "      <td>0.000000</td>\n",
       "      <td>1.000000</td>\n",
       "      <td>0.000000</td>\n",
       "    </tr>\n",
       "    <tr>\n",
       "      <th>75%</th>\n",
       "      <td>25.743985</td>\n",
       "      <td>3.355748</td>\n",
       "      <td>2.096370</td>\n",
       "      <td>1.000000</td>\n",
       "      <td>1.000000</td>\n",
       "      <td>0.000000</td>\n",
       "      <td>1.000000</td>\n",
       "      <td>0.000000</td>\n",
       "    </tr>\n",
       "    <tr>\n",
       "      <th>max</th>\n",
       "      <td>10632.723672</td>\n",
       "      <td>11851.104565</td>\n",
       "      <td>267.802942</td>\n",
       "      <td>1.000000</td>\n",
       "      <td>1.000000</td>\n",
       "      <td>1.000000</td>\n",
       "      <td>1.000000</td>\n",
       "      <td>1.000000</td>\n",
       "    </tr>\n",
       "  </tbody>\n",
       "</table>\n",
       "</div>"
      ],
      "text/plain": [
       "       distance_from_home  distance_from_last_transaction  \\\n",
       "count      1000000.000000                  1000000.000000   \n",
       "mean            26.628792                        5.036519   \n",
       "std             65.390784                       25.843093   \n",
       "min              0.004874                        0.000118   \n",
       "25%              3.878008                        0.296671   \n",
       "50%              9.967760                        0.998650   \n",
       "75%             25.743985                        3.355748   \n",
       "max          10632.723672                    11851.104565   \n",
       "\n",
       "       ratio_to_median_purchase_price  repeat_retailer       used_chip  \\\n",
       "count                  1000000.000000   1000000.000000  1000000.000000   \n",
       "mean                         1.824182         0.881536        0.350399   \n",
       "std                          2.799589         0.323157        0.477095   \n",
       "min                          0.004399         0.000000        0.000000   \n",
       "25%                          0.475673         1.000000        0.000000   \n",
       "50%                          0.997717         1.000000        0.000000   \n",
       "75%                          2.096370         1.000000        1.000000   \n",
       "max                        267.802942         1.000000        1.000000   \n",
       "\n",
       "       used_pin_number    online_order           fraud  \n",
       "count   1000000.000000  1000000.000000  1000000.000000  \n",
       "mean          0.100608        0.650552        0.087403  \n",
       "std           0.300809        0.476796        0.282425  \n",
       "min           0.000000        0.000000        0.000000  \n",
       "25%           0.000000        0.000000        0.000000  \n",
       "50%           0.000000        1.000000        0.000000  \n",
       "75%           0.000000        1.000000        0.000000  \n",
       "max           1.000000        1.000000        1.000000  "
      ]
     },
     "execution_count": 5,
     "metadata": {},
     "output_type": "execute_result"
    }
   ],
   "source": [
    "df.describe()"
   ]
  },
  {
   "cell_type": "code",
   "execution_count": 6,
   "id": "5a3d1bc3",
   "metadata": {
    "execution": {
     "iopub.execute_input": "2024-08-16T19:21:15.501719Z",
     "iopub.status.busy": "2024-08-16T19:21:15.501126Z",
     "iopub.status.idle": "2024-08-16T19:21:15.837807Z",
     "shell.execute_reply": "2024-08-16T19:21:15.836701Z"
    },
    "papermill": {
     "duration": 0.355537,
     "end_time": "2024-08-16T19:21:15.840517",
     "exception": false,
     "start_time": "2024-08-16T19:21:15.484980",
     "status": "completed"
    },
    "tags": []
   },
   "outputs": [
    {
     "data": {
      "text/html": [
       "<style type=\"text/css\">\n",
       "#T_88100_row0_col0, #T_88100_row1_col1, #T_88100_row2_col2, #T_88100_row3_col3, #T_88100_row4_col4, #T_88100_row5_col5, #T_88100_row6_col6, #T_88100_row7_col7 {\n",
       "  background-color: #b40426;\n",
       "  color: #f1f1f1;\n",
       "}\n",
       "#T_88100_row0_col1, #T_88100_row0_col2, #T_88100_row0_col6, #T_88100_row1_col0, #T_88100_row1_col2, #T_88100_row1_col3, #T_88100_row1_col6, #T_88100_row2_col0, #T_88100_row2_col1, #T_88100_row2_col3, #T_88100_row2_col6, #T_88100_row3_col1, #T_88100_row3_col2, #T_88100_row3_col6, #T_88100_row4_col0, #T_88100_row4_col1, #T_88100_row4_col2, #T_88100_row4_col3, #T_88100_row4_col6, #T_88100_row5_col0, #T_88100_row5_col1, #T_88100_row5_col2, #T_88100_row5_col3, #T_88100_row5_col6, #T_88100_row5_col7, #T_88100_row6_col0, #T_88100_row6_col1, #T_88100_row6_col2, #T_88100_row6_col3, #T_88100_row7_col3, #T_88100_row7_col4, #T_88100_row7_col5 {\n",
       "  background-color: #3b4cc0;\n",
       "  color: #f1f1f1;\n",
       "}\n",
       "#T_88100_row0_col3, #T_88100_row3_col0 {\n",
       "  background-color: #6788ee;\n",
       "  color: #f1f1f1;\n",
       "}\n",
       "#T_88100_row0_col4, #T_88100_row2_col4, #T_88100_row3_col4, #T_88100_row5_col4, #T_88100_row6_col4 {\n",
       "  background-color: #4b64d5;\n",
       "  color: #f1f1f1;\n",
       "}\n",
       "#T_88100_row0_col5 {\n",
       "  background-color: #5572df;\n",
       "  color: #f1f1f1;\n",
       "}\n",
       "#T_88100_row0_col7 {\n",
       "  background-color: #90b2fe;\n",
       "  color: #000000;\n",
       "}\n",
       "#T_88100_row1_col4 {\n",
       "  background-color: #4c66d6;\n",
       "  color: #f1f1f1;\n",
       "}\n",
       "#T_88100_row1_col5, #T_88100_row2_col5, #T_88100_row3_col5, #T_88100_row3_col7, #T_88100_row4_col5, #T_88100_row6_col5, #T_88100_row7_col1 {\n",
       "  background-color: #5673e0;\n",
       "  color: #f1f1f1;\n",
       "}\n",
       "#T_88100_row1_col7 {\n",
       "  background-color: #7295f4;\n",
       "  color: #f1f1f1;\n",
       "}\n",
       "#T_88100_row2_col7 {\n",
       "  background-color: #dfdbd9;\n",
       "  color: #000000;\n",
       "}\n",
       "#T_88100_row4_col7 {\n",
       "  background-color: #455cce;\n",
       "  color: #f1f1f1;\n",
       "}\n",
       "#T_88100_row6_col7 {\n",
       "  background-color: #92b4fe;\n",
       "  color: #000000;\n",
       "}\n",
       "#T_88100_row7_col0 {\n",
       "  background-color: #779af7;\n",
       "  color: #f1f1f1;\n",
       "}\n",
       "#T_88100_row7_col2 {\n",
       "  background-color: #d3dbe7;\n",
       "  color: #000000;\n",
       "}\n",
       "#T_88100_row7_col6 {\n",
       "  background-color: #799cf8;\n",
       "  color: #f1f1f1;\n",
       "}\n",
       "</style>\n",
       "<table id=\"T_88100\">\n",
       "  <thead>\n",
       "    <tr>\n",
       "      <th class=\"blank level0\" >&nbsp;</th>\n",
       "      <th id=\"T_88100_level0_col0\" class=\"col_heading level0 col0\" >distance_from_home</th>\n",
       "      <th id=\"T_88100_level0_col1\" class=\"col_heading level0 col1\" >distance_from_last_transaction</th>\n",
       "      <th id=\"T_88100_level0_col2\" class=\"col_heading level0 col2\" >ratio_to_median_purchase_price</th>\n",
       "      <th id=\"T_88100_level0_col3\" class=\"col_heading level0 col3\" >repeat_retailer</th>\n",
       "      <th id=\"T_88100_level0_col4\" class=\"col_heading level0 col4\" >used_chip</th>\n",
       "      <th id=\"T_88100_level0_col5\" class=\"col_heading level0 col5\" >used_pin_number</th>\n",
       "      <th id=\"T_88100_level0_col6\" class=\"col_heading level0 col6\" >online_order</th>\n",
       "      <th id=\"T_88100_level0_col7\" class=\"col_heading level0 col7\" >fraud</th>\n",
       "    </tr>\n",
       "  </thead>\n",
       "  <tbody>\n",
       "    <tr>\n",
       "      <th id=\"T_88100_level0_row0\" class=\"row_heading level0 row0\" >distance_from_home</th>\n",
       "      <td id=\"T_88100_row0_col0\" class=\"data row0 col0\" >1.000000</td>\n",
       "      <td id=\"T_88100_row0_col1\" class=\"data row0 col1\" >0.000193</td>\n",
       "      <td id=\"T_88100_row0_col2\" class=\"data row0 col2\" >-0.001374</td>\n",
       "      <td id=\"T_88100_row0_col3\" class=\"data row0 col3\" >0.143124</td>\n",
       "      <td id=\"T_88100_row0_col4\" class=\"data row0 col4\" >-0.000697</td>\n",
       "      <td id=\"T_88100_row0_col5\" class=\"data row0 col5\" >-0.001622</td>\n",
       "      <td id=\"T_88100_row0_col6\" class=\"data row0 col6\" >-0.001301</td>\n",
       "      <td id=\"T_88100_row0_col7\" class=\"data row0 col7\" >0.187571</td>\n",
       "    </tr>\n",
       "    <tr>\n",
       "      <th id=\"T_88100_level0_row1\" class=\"row_heading level0 row1\" >distance_from_last_transaction</th>\n",
       "      <td id=\"T_88100_row1_col0\" class=\"data row1 col0\" >0.000193</td>\n",
       "      <td id=\"T_88100_row1_col1\" class=\"data row1 col1\" >1.000000</td>\n",
       "      <td id=\"T_88100_row1_col2\" class=\"data row1 col2\" >0.001013</td>\n",
       "      <td id=\"T_88100_row1_col3\" class=\"data row1 col3\" >-0.000928</td>\n",
       "      <td id=\"T_88100_row1_col4\" class=\"data row1 col4\" >0.002055</td>\n",
       "      <td id=\"T_88100_row1_col5\" class=\"data row1 col5\" >-0.000899</td>\n",
       "      <td id=\"T_88100_row1_col6\" class=\"data row1 col6\" >0.000141</td>\n",
       "      <td id=\"T_88100_row1_col7\" class=\"data row1 col7\" >0.091917</td>\n",
       "    </tr>\n",
       "    <tr>\n",
       "      <th id=\"T_88100_level0_row2\" class=\"row_heading level0 row2\" >ratio_to_median_purchase_price</th>\n",
       "      <td id=\"T_88100_row2_col0\" class=\"data row2 col0\" >-0.001374</td>\n",
       "      <td id=\"T_88100_row2_col1\" class=\"data row2 col1\" >0.001013</td>\n",
       "      <td id=\"T_88100_row2_col2\" class=\"data row2 col2\" >1.000000</td>\n",
       "      <td id=\"T_88100_row2_col3\" class=\"data row2 col3\" >0.001374</td>\n",
       "      <td id=\"T_88100_row2_col4\" class=\"data row2 col4\" >0.000587</td>\n",
       "      <td id=\"T_88100_row2_col5\" class=\"data row2 col5\" >0.000942</td>\n",
       "      <td id=\"T_88100_row2_col6\" class=\"data row2 col6\" >-0.000330</td>\n",
       "      <td id=\"T_88100_row2_col7\" class=\"data row2 col7\" >0.462305</td>\n",
       "    </tr>\n",
       "    <tr>\n",
       "      <th id=\"T_88100_level0_row3\" class=\"row_heading level0 row3\" >repeat_retailer</th>\n",
       "      <td id=\"T_88100_row3_col0\" class=\"data row3 col0\" >0.143124</td>\n",
       "      <td id=\"T_88100_row3_col1\" class=\"data row3 col1\" >-0.000928</td>\n",
       "      <td id=\"T_88100_row3_col2\" class=\"data row3 col2\" >0.001374</td>\n",
       "      <td id=\"T_88100_row3_col3\" class=\"data row3 col3\" >1.000000</td>\n",
       "      <td id=\"T_88100_row3_col4\" class=\"data row3 col4\" >-0.001345</td>\n",
       "      <td id=\"T_88100_row3_col5\" class=\"data row3 col5\" >-0.000417</td>\n",
       "      <td id=\"T_88100_row3_col6\" class=\"data row3 col6\" >-0.000532</td>\n",
       "      <td id=\"T_88100_row3_col7\" class=\"data row3 col7\" >-0.001357</td>\n",
       "    </tr>\n",
       "    <tr>\n",
       "      <th id=\"T_88100_level0_row4\" class=\"row_heading level0 row4\" >used_chip</th>\n",
       "      <td id=\"T_88100_row4_col0\" class=\"data row4 col0\" >-0.000697</td>\n",
       "      <td id=\"T_88100_row4_col1\" class=\"data row4 col1\" >0.002055</td>\n",
       "      <td id=\"T_88100_row4_col2\" class=\"data row4 col2\" >0.000587</td>\n",
       "      <td id=\"T_88100_row4_col3\" class=\"data row4 col3\" >-0.001345</td>\n",
       "      <td id=\"T_88100_row4_col4\" class=\"data row4 col4\" >1.000000</td>\n",
       "      <td id=\"T_88100_row4_col5\" class=\"data row4 col5\" >-0.001393</td>\n",
       "      <td id=\"T_88100_row4_col6\" class=\"data row4 col6\" >-0.000219</td>\n",
       "      <td id=\"T_88100_row4_col7\" class=\"data row4 col7\" >-0.060975</td>\n",
       "    </tr>\n",
       "    <tr>\n",
       "      <th id=\"T_88100_level0_row5\" class=\"row_heading level0 row5\" >used_pin_number</th>\n",
       "      <td id=\"T_88100_row5_col0\" class=\"data row5 col0\" >-0.001622</td>\n",
       "      <td id=\"T_88100_row5_col1\" class=\"data row5 col1\" >-0.000899</td>\n",
       "      <td id=\"T_88100_row5_col2\" class=\"data row5 col2\" >0.000942</td>\n",
       "      <td id=\"T_88100_row5_col3\" class=\"data row5 col3\" >-0.000417</td>\n",
       "      <td id=\"T_88100_row5_col4\" class=\"data row5 col4\" >-0.001393</td>\n",
       "      <td id=\"T_88100_row5_col5\" class=\"data row5 col5\" >1.000000</td>\n",
       "      <td id=\"T_88100_row5_col6\" class=\"data row5 col6\" >-0.000291</td>\n",
       "      <td id=\"T_88100_row5_col7\" class=\"data row5 col7\" >-0.100293</td>\n",
       "    </tr>\n",
       "    <tr>\n",
       "      <th id=\"T_88100_level0_row6\" class=\"row_heading level0 row6\" >online_order</th>\n",
       "      <td id=\"T_88100_row6_col0\" class=\"data row6 col0\" >-0.001301</td>\n",
       "      <td id=\"T_88100_row6_col1\" class=\"data row6 col1\" >0.000141</td>\n",
       "      <td id=\"T_88100_row6_col2\" class=\"data row6 col2\" >-0.000330</td>\n",
       "      <td id=\"T_88100_row6_col3\" class=\"data row6 col3\" >-0.000532</td>\n",
       "      <td id=\"T_88100_row6_col4\" class=\"data row6 col4\" >-0.000219</td>\n",
       "      <td id=\"T_88100_row6_col5\" class=\"data row6 col5\" >-0.000291</td>\n",
       "      <td id=\"T_88100_row6_col6\" class=\"data row6 col6\" >1.000000</td>\n",
       "      <td id=\"T_88100_row6_col7\" class=\"data row6 col7\" >0.191973</td>\n",
       "    </tr>\n",
       "    <tr>\n",
       "      <th id=\"T_88100_level0_row7\" class=\"row_heading level0 row7\" >fraud</th>\n",
       "      <td id=\"T_88100_row7_col0\" class=\"data row7 col0\" >0.187571</td>\n",
       "      <td id=\"T_88100_row7_col1\" class=\"data row7 col1\" >0.091917</td>\n",
       "      <td id=\"T_88100_row7_col2\" class=\"data row7 col2\" >0.462305</td>\n",
       "      <td id=\"T_88100_row7_col3\" class=\"data row7 col3\" >-0.001357</td>\n",
       "      <td id=\"T_88100_row7_col4\" class=\"data row7 col4\" >-0.060975</td>\n",
       "      <td id=\"T_88100_row7_col5\" class=\"data row7 col5\" >-0.100293</td>\n",
       "      <td id=\"T_88100_row7_col6\" class=\"data row7 col6\" >0.191973</td>\n",
       "      <td id=\"T_88100_row7_col7\" class=\"data row7 col7\" >1.000000</td>\n",
       "    </tr>\n",
       "  </tbody>\n",
       "</table>\n"
      ],
      "text/plain": [
       "<pandas.io.formats.style.Styler at 0x7f6cf986ebc0>"
      ]
     },
     "execution_count": 6,
     "metadata": {},
     "output_type": "execute_result"
    }
   ],
   "source": [
    "corr=df.corr()\n",
    "corr.style.background_gradient(cmap='coolwarm')"
   ]
  },
  {
   "cell_type": "code",
   "execution_count": 7,
   "id": "241f9203",
   "metadata": {
    "execution": {
     "iopub.execute_input": "2024-08-16T19:21:15.867632Z",
     "iopub.status.busy": "2024-08-16T19:21:15.867055Z",
     "iopub.status.idle": "2024-08-16T19:21:16.101030Z",
     "shell.execute_reply": "2024-08-16T19:21:16.099403Z"
    },
    "papermill": {
     "duration": 0.25226,
     "end_time": "2024-08-16T19:21:16.105708",
     "exception": false,
     "start_time": "2024-08-16T19:21:15.853448",
     "status": "completed"
    },
    "tags": []
   },
   "outputs": [
    {
     "data": {
      "image/png": "[encoded data removed]",
      "text/plain": [
       "<Figure size 640x480 with 1 Axes>"
      ]
     },
     "metadata": {},
     "output_type": "display_data"
    }
   ],
   "source": [
    "f_count = df[df[\"fraud\"] == 1][\"fraud\"].count()\n",
    "nf_count = df[df[\"fraud\"] == 0][\"fraud\"].count()\n",
    "plt.pie([f_count,nf_count],labels=['Fraud','Not Fraud'],autopct='%1.1f%%')\n",
    "plt.show()"
   ]
  },
  {
   "cell_type": "markdown",
   "id": "9c0aa965",
   "metadata": {
    "papermill": {
     "duration": 0.023368,
     "end_time": "2024-08-16T19:21:16.156014",
     "exception": false,
     "start_time": "2024-08-16T19:21:16.132646",
     "status": "completed"
    },
    "tags": []
   },
   "source": [
    "# # **Data pre-processing**"
   ]
  },
  {
   "cell_type": "code",
   "execution_count": 8,
   "id": "a4159939",
   "metadata": {
    "execution": {
     "iopub.execute_input": "2024-08-16T19:21:16.185299Z",
     "iopub.status.busy": "2024-08-16T19:21:16.183811Z",
     "iopub.status.idle": "2024-08-16T19:21:16.205246Z",
     "shell.execute_reply": "2024-08-16T19:21:16.204071Z"
    },
    "papermill": {
     "duration": 0.038658,
     "end_time": "2024-08-16T19:21:16.208004",
     "exception": false,
     "start_time": "2024-08-16T19:21:16.169346",
     "status": "completed"
    },
    "tags": []
   },
   "outputs": [
    {
     "data": {
      "text/plain": [
       "distance_from_home                0\n",
       "distance_from_last_transaction    0\n",
       "ratio_to_median_purchase_price    0\n",
       "repeat_retailer                   0\n",
       "used_chip                         0\n",
       "used_pin_number                   0\n",
       "online_order                      0\n",
       "fraud                             0\n",
       "dtype: int64"
      ]
     },
     "execution_count": 8,
     "metadata": {},
     "output_type": "execute_result"
    }
   ],
   "source": [
    "df.isnull().sum()"
   ]
  },
  {
   "cell_type": "code",
   "execution_count": 9,
   "id": "a4308bc6",
   "metadata": {
    "execution": {
     "iopub.execute_input": "2024-08-16T19:21:16.235640Z",
     "iopub.status.busy": "2024-08-16T19:21:16.235166Z",
     "iopub.status.idle": "2024-08-16T19:21:16.741792Z",
     "shell.execute_reply": "2024-08-16T19:21:16.740568Z"
    },
    "papermill": {
     "duration": 0.523492,
     "end_time": "2024-08-16T19:21:16.744432",
     "exception": false,
     "start_time": "2024-08-16T19:21:16.220940",
     "status": "completed"
    },
    "tags": []
   },
   "outputs": [
    {
     "data": {
      "text/html": [
       "<div>\n",
       "<style scoped>\n",
       "    .dataframe tbody tr th:only-of-type {\n",
       "        vertical-align: middle;\n",
       "    }\n",
       "\n",
       "    .dataframe tbody tr th {\n",
       "        vertical-align: top;\n",
       "    }\n",
       "\n",
       "    .dataframe thead th {\n",
       "        text-align: right;\n",
       "    }\n",
       "</style>\n",
       "<table border=\"1\" class=\"dataframe\">\n",
       "  <thead>\n",
       "    <tr style=\"text-align: right;\">\n",
       "      <th></th>\n",
       "      <th>distance_from_home</th>\n",
       "      <th>distance_from_last_transaction</th>\n",
       "      <th>ratio_to_median_purchase_price</th>\n",
       "      <th>repeat_retailer</th>\n",
       "      <th>used_chip</th>\n",
       "      <th>used_pin_number</th>\n",
       "      <th>online_order</th>\n",
       "      <th>fraud</th>\n",
       "    </tr>\n",
       "  </thead>\n",
       "  <tbody>\n",
       "  </tbody>\n",
       "</table>\n",
       "</div>"
      ],
      "text/plain": [
       "Empty DataFrame\n",
       "Columns: [distance_from_home, distance_from_last_transaction, ratio_to_median_purchase_price, repeat_retailer, used_chip, used_pin_number, online_order, fraud]\n",
       "Index: []"
      ]
     },
     "execution_count": 9,
     "metadata": {},
     "output_type": "execute_result"
    }
   ],
   "source": [
    "df[df.duplicated()]"
   ]
  },
  {
   "cell_type": "code",
   "execution_count": 10,
   "id": "e3430710",
   "metadata": {
    "execution": {
     "iopub.execute_input": "2024-08-16T19:21:16.773257Z",
     "iopub.status.busy": "2024-08-16T19:21:16.772880Z",
     "iopub.status.idle": "2024-08-16T19:21:16.801324Z",
     "shell.execute_reply": "2024-08-16T19:21:16.799784Z"
    },
    "papermill": {
     "duration": 0.046468,
     "end_time": "2024-08-16T19:21:16.804508",
     "exception": false,
     "start_time": "2024-08-16T19:21:16.758040",
     "status": "completed"
    },
    "tags": []
   },
   "outputs": [],
   "source": [
    "# splitting target\n",
    "x = df.drop(\"fraud\", axis = 1).values\n",
    "y = df[\"fraud\"].astype(\"int8\").values"
   ]
  },
  {
   "cell_type": "code",
   "execution_count": 11,
   "id": "3a8e371a",
   "metadata": {
    "execution": {
     "iopub.execute_input": "2024-08-16T19:21:16.832471Z",
     "iopub.status.busy": "2024-08-16T19:21:16.832006Z",
     "iopub.status.idle": "2024-08-16T19:21:19.906371Z",
     "shell.execute_reply": "2024-08-16T19:21:19.905285Z"
    },
    "papermill": {
     "duration": 3.091741,
     "end_time": "2024-08-16T19:21:19.909258",
     "exception": false,
     "start_time": "2024-08-16T19:21:16.817517",
     "status": "completed"
    },
    "tags": []
   },
   "outputs": [],
   "source": [
    "#splitting data train, test\n",
    "X_train,X_test,y_train,y_test=train_test_split(x,y,test_size = 0.2, stratify = y)\n",
    "\n",
    "# standarization\n",
    "scaler = StandardScaler()\n",
    "X_train = scaler.fit_transform(X_train)\n",
    "X_test = scaler.transform(X_test)\n",
    "\n",
    "# oversampling\n",
    "smote = SMOTE(random_state=39)\n",
    "X_over,y_over  = smote.fit_resample(X_train,y_train)"
   ]
  },
  {
   "cell_type": "markdown",
   "id": "f5cbeab3",
   "metadata": {
    "papermill": {
     "duration": 0.012929,
     "end_time": "2024-08-16T19:21:19.935708",
     "exception": false,
     "start_time": "2024-08-16T19:21:19.922779",
     "status": "completed"
    },
    "tags": []
   },
   "source": [
    "# # **Decision Tree Classifier**"
   ]
  },
  {
   "cell_type": "code",
   "execution_count": 12,
   "id": "609ea0d6",
   "metadata": {
    "execution": {
     "iopub.execute_input": "2024-08-16T19:21:19.964294Z",
     "iopub.status.busy": "2024-08-16T19:21:19.963232Z",
     "iopub.status.idle": "2024-08-16T19:21:19.970009Z",
     "shell.execute_reply": "2024-08-16T19:21:19.968983Z"
    },
    "papermill": {
     "duration": 0.023619,
     "end_time": "2024-08-16T19:21:19.972352",
     "exception": false,
     "start_time": "2024-08-16T19:21:19.948733",
     "status": "completed"
    },
    "tags": []
   },
   "outputs": [],
   "source": [
    "# Hyper parameter tuning (GridSearchCV)\n",
    "dt = DecisionTreeClassifier(random_state=42)\n",
    "params = {\n",
    "    'max_depth': [2, 3, 5, 10, 20],'min_samples_leaf': [5, 10, 20, 50, 100],'criterion': [\"gini\", \"entropy\"]\n",
    "}\n",
    "\n",
    "grid_search = GridSearchCV(estimator=dt,param_grid=params,cv=4, n_jobs=-1, verbose=1, scoring = \"f1\")"
   ]
  },
  {
   "cell_type": "code",
   "execution_count": 13,
   "id": "b5baeda8",
   "metadata": {
    "execution": {
     "iopub.execute_input": "2024-08-16T19:21:19.999908Z",
     "iopub.status.busy": "2024-08-16T19:21:19.999471Z",
     "iopub.status.idle": "2024-08-16T19:26:59.648621Z",
     "shell.execute_reply": "2024-08-16T19:26:59.647324Z"
    },
    "papermill": {
     "duration": 339.678686,
     "end_time": "2024-08-16T19:26:59.663955",
     "exception": false,
     "start_time": "2024-08-16T19:21:19.985269",
     "status": "completed"
    },
    "tags": []
   },
   "outputs": [
    {
     "name": "stdout",
     "output_type": "stream",
     "text": [
      "Fitting 4 folds for each of 50 candidates, totalling 200 fits\n"
     ]
    },
    {
     "data": {
      "text/html": [
       "<style>#sk-container-id-1 {color: black;background-color: white;}#sk-container-id-1 pre{padding: 0;}#sk-container-id-1 div.sk-toggleable {background-color: white;}#sk-container-id-1 label.sk-toggleable__label {cursor: pointer;display: block;width: 100%;margin-bottom: 0;padding: 0.3em;box-sizing: border-box;text-align: center;}#sk-container-id-1 label.sk-toggleable__label-arrow:before {content: \"▸\";float: left;margin-right: 0.25em;color: #696969;}#sk-container-id-1 label.sk-toggleable__label-arrow:hover:before {color: black;}#sk-container-id-1 div.sk-estimator:hover label.sk-toggleable__label-arrow:before {color: black;}#sk-container-id-1 div.sk-toggleable__content {max-height: 0;max-width: 0;overflow: hidden;text-align: left;background-color: #f0f8ff;}#sk-container-id-1 div.sk-toggleable__content pre {margin: 0.2em;color: black;border-radius: 0.25em;background-color: #f0f8ff;}#sk-container-id-1 input.sk-toggleable__control:checked~div.sk-toggleable__content {max-height: 200px;max-width: 100%;overflow: auto;}#sk-container-id-1 input.sk-toggleable__control:checked~label.sk-toggleable__label-arrow:before {content: \"▾\";}#sk-container-id-1 div.sk-estimator input.sk-toggleable__control:checked~label.sk-toggleable__label {background-color: #d4ebff;}#sk-container-id-1 div.sk-label input.sk-toggleable__control:checked~label.sk-toggleable__label {background-color: #d4ebff;}#sk-container-id-1 input.sk-hidden--visually {border: 0;clip: rect(1px 1px 1px 1px);clip: rect(1px, 1px, 1px, 1px);height: 1px;margin: -1px;overflow: hidden;padding: 0;position: absolute;width: 1px;}#sk-container-id-1 div.sk-estimator {font-family: monospace;background-color: #f0f8ff;border: 1px dotted black;border-radius: 0.25em;box-sizing: border-box;margin-bottom: 0.5em;}#sk-container-id-1 div.sk-estimator:hover {background-color: #d4ebff;}#sk-container-id-1 div.sk-parallel-item::after {content: \"\";width: 100%;border-bottom: 1px solid gray;flex-grow: 1;}#sk-container-id-1 div.sk-label:hover label.sk-toggleable__label {background-color: #d4ebff;}#sk-container-id-1 div.sk-serial::before {content: \"\";position: absolute;border-left: 1px solid gray;box-sizing: border-box;top: 0;bottom: 0;left: 50%;z-index: 0;}#sk-container-id-1 div.sk-serial {display: flex;flex-direction: column;align-items: center;background-color: white;padding-right: 0.2em;padding-left: 0.2em;position: relative;}#sk-container-id-1 div.sk-item {position: relative;z-index: 1;}#sk-container-id-1 div.sk-parallel {display: flex;align-items: stretch;justify-content: center;background-color: white;position: relative;}#sk-container-id-1 div.sk-item::before, #sk-container-id-1 div.sk-parallel-item::before {content: \"\";position: absolute;border-left: 1px solid gray;box-sizing: border-box;top: 0;bottom: 0;left: 50%;z-index: -1;}#sk-container-id-1 div.sk-parallel-item {display: flex;flex-direction: column;z-index: 1;position: relative;background-color: white;}#sk-container-id-1 div.sk-parallel-item:first-child::after {align-self: flex-end;width: 50%;}#sk-container-id-1 div.sk-parallel-item:last-child::after {align-self: flex-start;width: 50%;}#sk-container-id-1 div.sk-parallel-item:only-child::after {width: 0;}#sk-container-id-1 div.sk-dashed-wrapped {border: 1px dashed gray;margin: 0 0.4em 0.5em 0.4em;box-sizing: border-box;padding-bottom: 0.4em;background-color: white;}#sk-container-id-1 div.sk-label label {font-family: monospace;font-weight: bold;display: inline-block;line-height: 1.2em;}#sk-container-id-1 div.sk-label-container {text-align: center;}#sk-container-id-1 div.sk-container {/* jupyter's `normalize.less` sets `[hidden] { display: none; }` but bootstrap.min.css set `[hidden] { display: none !important; }` so we also need the `!important` here to be able to override the default hidden behavior on the sphinx rendered scikit-learn.org. See: https://github.com/scikit-learn/scikit-learn/issues/21755 */display: inline-block !important;position: relative;}#sk-container-id-1 div.sk-text-repr-fallback {display: none;}</style><div id=\"sk-container-id-1\" class=\"sk-top-container\"><div class=\"sk-text-repr-fallback\"><pre>GridSearchCV(cv=4, estimator=DecisionTreeClassifier(random_state=42), n_jobs=-1,\n",
       "             param_grid={&#x27;criterion&#x27;: [&#x27;gini&#x27;, &#x27;entropy&#x27;],\n",
       "                         &#x27;max_depth&#x27;: [2, 3, 5, 10, 20],\n",
       "                         &#x27;min_samples_leaf&#x27;: [5, 10, 20, 50, 100]},\n",
       "             scoring=&#x27;f1&#x27;, verbose=1)</pre><b>In a Jupyter environment, please rerun this cell to show the HTML representation or trust the notebook. <br />On GitHub, the HTML representation is unable to render, please try loading this page with nbviewer.org.</b></div><div class=\"sk-container\" hidden><div class=\"sk-item sk-dashed-wrapped\"><div class=\"sk-label-container\"><div class=\"sk-label sk-toggleable\"><input class=\"sk-toggleable__control sk-hidden--visually\" id=\"sk-estimator-id-1\" type=\"checkbox\" ><label for=\"sk-estimator-id-1\" class=\"sk-toggleable__label sk-toggleable__label-arrow\">GridSearchCV</label><div class=\"sk-toggleable__content\"><pre>GridSearchCV(cv=4, estimator=DecisionTreeClassifier(random_state=42), n_jobs=-1,\n",
       "             param_grid={&#x27;criterion&#x27;: [&#x27;gini&#x27;, &#x27;entropy&#x27;],\n",
       "                         &#x27;max_depth&#x27;: [2, 3, 5, 10, 20],\n",
       "                         &#x27;min_samples_leaf&#x27;: [5, 10, 20, 50, 100]},\n",
       "             scoring=&#x27;f1&#x27;, verbose=1)</pre></div></div></div><div class=\"sk-parallel\"><div class=\"sk-parallel-item\"><div class=\"sk-item\"><div class=\"sk-label-container\"><div class=\"sk-label sk-toggleable\"><input class=\"sk-toggleable__control sk-hidden--visually\" id=\"sk-estimator-id-2\" type=\"checkbox\" ><label for=\"sk-estimator-id-2\" class=\"sk-toggleable__label sk-toggleable__label-arrow\">estimator: DecisionTreeClassifier</label><div class=\"sk-toggleable__content\"><pre>DecisionTreeClassifier(random_state=42)</pre></div></div></div><div class=\"sk-serial\"><div class=\"sk-item\"><div class=\"sk-estimator sk-toggleable\"><input class=\"sk-toggleable__control sk-hidden--visually\" id=\"sk-estimator-id-3\" type=\"checkbox\" ><label for=\"sk-estimator-id-3\" class=\"sk-toggleable__label sk-toggleable__label-arrow\">DecisionTreeClassifier</label><div class=\"sk-toggleable__content\"><pre>DecisionTreeClassifier(random_state=42)</pre></div></div></div></div></div></div></div></div></div></div>"
      ],
      "text/plain": [
       "GridSearchCV(cv=4, estimator=DecisionTreeClassifier(random_state=42), n_jobs=-1,\n",
       "             param_grid={'criterion': ['gini', 'entropy'],\n",
       "                         'max_depth': [2, 3, 5, 10, 20],\n",
       "                         'min_samples_leaf': [5, 10, 20, 50, 100]},\n",
       "             scoring='f1', verbose=1)"
      ]
     },
     "execution_count": 13,
     "metadata": {},
     "output_type": "execute_result"
    }
   ],
   "source": [
    "grid_search.fit(X_over,y_over)"
   ]
  },
  {
   "cell_type": "code",
   "execution_count": 14,
   "id": "f5c792f1",
   "metadata": {
    "execution": {
     "iopub.execute_input": "2024-08-16T19:26:59.693539Z",
     "iopub.status.busy": "2024-08-16T19:26:59.692497Z",
     "iopub.status.idle": "2024-08-16T19:26:59.702427Z",
     "shell.execute_reply": "2024-08-16T19:26:59.701194Z"
    },
    "papermill": {
     "duration": 0.027335,
     "end_time": "2024-08-16T19:26:59.704993",
     "exception": false,
     "start_time": "2024-08-16T19:26:59.677658",
     "status": "completed"
    },
    "tags": []
   },
   "outputs": [
    {
     "data": {
      "text/html": [
       "<style>#sk-container-id-2 {color: black;background-color: white;}#sk-container-id-2 pre{padding: 0;}#sk-container-id-2 div.sk-toggleable {background-color: white;}#sk-container-id-2 label.sk-toggleable__label {cursor: pointer;display: block;width: 100%;margin-bottom: 0;padding: 0.3em;box-sizing: border-box;text-align: center;}#sk-container-id-2 label.sk-toggleable__label-arrow:before {content: \"▸\";float: left;margin-right: 0.25em;color: #696969;}#sk-container-id-2 label.sk-toggleable__label-arrow:hover:before {color: black;}#sk-container-id-2 div.sk-estimator:hover label.sk-toggleable__label-arrow:before {color: black;}#sk-container-id-2 div.sk-toggleable__content {max-height: 0;max-width: 0;overflow: hidden;text-align: left;background-color: #f0f8ff;}#sk-container-id-2 div.sk-toggleable__content pre {margin: 0.2em;color: black;border-radius: 0.25em;background-color: #f0f8ff;}#sk-container-id-2 input.sk-toggleable__control:checked~div.sk-toggleable__content {max-height: 200px;max-width: 100%;overflow: auto;}#sk-container-id-2 input.sk-toggleable__control:checked~label.sk-toggleable__label-arrow:before {content: \"▾\";}#sk-container-id-2 div.sk-estimator input.sk-toggleable__control:checked~label.sk-toggleable__label {background-color: #d4ebff;}#sk-container-id-2 div.sk-label input.sk-toggleable__control:checked~label.sk-toggleable__label {background-color: #d4ebff;}#sk-container-id-2 input.sk-hidden--visually {border: 0;clip: rect(1px 1px 1px 1px);clip: rect(1px, 1px, 1px, 1px);height: 1px;margin: -1px;overflow: hidden;padding: 0;position: absolute;width: 1px;}#sk-container-id-2 div.sk-estimator {font-family: monospace;background-color: #f0f8ff;border: 1px dotted black;border-radius: 0.25em;box-sizing: border-box;margin-bottom: 0.5em;}#sk-container-id-2 div.sk-estimator:hover {background-color: #d4ebff;}#sk-container-id-2 div.sk-parallel-item::after {content: \"\";width: 100%;border-bottom: 1px solid gray;flex-grow: 1;}#sk-container-id-2 div.sk-label:hover label.sk-toggleable__label {background-color: #d4ebff;}#sk-container-id-2 div.sk-serial::before {content: \"\";position: absolute;border-left: 1px solid gray;box-sizing: border-box;top: 0;bottom: 0;left: 50%;z-index: 0;}#sk-container-id-2 div.sk-serial {display: flex;flex-direction: column;align-items: center;background-color: white;padding-right: 0.2em;padding-left: 0.2em;position: relative;}#sk-container-id-2 div.sk-item {position: relative;z-index: 1;}#sk-container-id-2 div.sk-parallel {display: flex;align-items: stretch;justify-content: center;background-color: white;position: relative;}#sk-container-id-2 div.sk-item::before, #sk-container-id-2 div.sk-parallel-item::before {content: \"\";position: absolute;border-left: 1px solid gray;box-sizing: border-box;top: 0;bottom: 0;left: 50%;z-index: -1;}#sk-container-id-2 div.sk-parallel-item {display: flex;flex-direction: column;z-index: 1;position: relative;background-color: white;}#sk-container-id-2 div.sk-parallel-item:first-child::after {align-self: flex-end;width: 50%;}#sk-container-id-2 div.sk-parallel-item:last-child::after {align-self: flex-start;width: 50%;}#sk-container-id-2 div.sk-parallel-item:only-child::after {width: 0;}#sk-container-id-2 div.sk-dashed-wrapped {border: 1px dashed gray;margin: 0 0.4em 0.5em 0.4em;box-sizing: border-box;padding-bottom: 0.4em;background-color: white;}#sk-container-id-2 div.sk-label label {font-family: monospace;font-weight: bold;display: inline-block;line-height: 1.2em;}#sk-container-id-2 div.sk-label-container {text-align: center;}#sk-container-id-2 div.sk-container {/* jupyter's `normalize.less` sets `[hidden] { display: none; }` but bootstrap.min.css set `[hidden] { display: none !important; }` so we also need the `!important` here to be able to override the default hidden behavior on the sphinx rendered scikit-learn.org. See: https://github.com/scikit-learn/scikit-learn/issues/21755 */display: inline-block !important;position: relative;}#sk-container-id-2 div.sk-text-repr-fallback {display: none;}</style><div id=\"sk-container-id-2\" class=\"sk-top-container\"><div class=\"sk-text-repr-fallback\"><pre>DecisionTreeClassifier(criterion=&#x27;entropy&#x27;, max_depth=10, min_samples_leaf=5,\n",
       "                       random_state=42)</pre><b>In a Jupyter environment, please rerun this cell to show the HTML representation or trust the notebook. <br />On GitHub, the HTML representation is unable to render, please try loading this page with nbviewer.org.</b></div><div class=\"sk-container\" hidden><div class=\"sk-item\"><div class=\"sk-estimator sk-toggleable\"><input class=\"sk-toggleable__control sk-hidden--visually\" id=\"sk-estimator-id-4\" type=\"checkbox\" checked><label for=\"sk-estimator-id-4\" class=\"sk-toggleable__label sk-toggleable__label-arrow\">DecisionTreeClassifier</label><div class=\"sk-toggleable__content\"><pre>DecisionTreeClassifier(criterion=&#x27;entropy&#x27;, max_depth=10, min_samples_leaf=5,\n",
       "                       random_state=42)</pre></div></div></div></div></div>"
      ],
      "text/plain": [
       "DecisionTreeClassifier(criterion='entropy', max_depth=10, min_samples_leaf=5,\n",
       "                       random_state=42)"
      ]
     },
     "execution_count": 14,
     "metadata": {},
     "output_type": "execute_result"
    }
   ],
   "source": [
    "grid_search.best_estimator_"
   ]
  },
  {
   "cell_type": "code",
   "execution_count": 15,
   "id": "d3b1d80b",
   "metadata": {
    "execution": {
     "iopub.execute_input": "2024-08-16T19:26:59.734530Z",
     "iopub.status.busy": "2024-08-16T19:26:59.733691Z",
     "iopub.status.idle": "2024-08-16T19:27:08.965344Z",
     "shell.execute_reply": "2024-08-16T19:27:08.964025Z"
    },
    "papermill": {
     "duration": 9.249434,
     "end_time": "2024-08-16T19:27:08.968175",
     "exception": false,
     "start_time": "2024-08-16T19:26:59.718741",
     "status": "completed"
    },
    "tags": []
   },
   "outputs": [],
   "source": [
    "clf = DecisionTreeClassifier(max_depth=10,min_samples_leaf=5)\n",
    "clf = clf.fit(X_over,y_over)"
   ]
  },
  {
   "cell_type": "code",
   "execution_count": 16,
   "id": "a3748a0d",
   "metadata": {
    "execution": {
     "iopub.execute_input": "2024-08-16T19:27:08.999410Z",
     "iopub.status.busy": "2024-08-16T19:27:08.998292Z",
     "iopub.status.idle": "2024-08-16T19:27:09.018371Z",
     "shell.execute_reply": "2024-08-16T19:27:09.017287Z"
    },
    "papermill": {
     "duration": 0.039397,
     "end_time": "2024-08-16T19:27:09.021289",
     "exception": false,
     "start_time": "2024-08-16T19:27:08.981892",
     "status": "completed"
    },
    "tags": []
   },
   "outputs": [],
   "source": [
    "# testing\n",
    "y_pred_clf = clf.predict(X_test)"
   ]
  },
  {
   "cell_type": "code",
   "execution_count": 17,
   "id": "12c73c30",
   "metadata": {
    "execution": {
     "iopub.execute_input": "2024-08-16T19:27:09.052168Z",
     "iopub.status.busy": "2024-08-16T19:27:09.051565Z",
     "iopub.status.idle": "2024-08-16T19:27:09.378417Z",
     "shell.execute_reply": "2024-08-16T19:27:09.377061Z"
    },
    "papermill": {
     "duration": 0.34566,
     "end_time": "2024-08-16T19:27:09.381672",
     "exception": false,
     "start_time": "2024-08-16T19:27:09.036012",
     "status": "completed"
    },
    "tags": []
   },
   "outputs": [
    {
     "data": {
      "image/png": "[encoded data removed]",
      "text/plain": [
       "<Figure size 640x480 with 2 Axes>"
      ]
     },
     "metadata": {},
     "output_type": "display_data"
    }
   ],
   "source": [
    "confusion_matrix_clf = confusion_matrix(y_test, y_pred_clf)\n",
    "\n",
    "disp = ConfusionMatrixDisplay(confusion_matrix=confusion_matrix_clf)\n",
    "disp.plot()\n",
    "\n",
    "plt.show()"
   ]
  },
  {
   "cell_type": "code",
   "execution_count": 18,
   "id": "cdeb8358",
   "metadata": {
    "execution": {
     "iopub.execute_input": "2024-08-16T19:27:09.413182Z",
     "iopub.status.busy": "2024-08-16T19:27:09.412723Z",
     "iopub.status.idle": "2024-08-16T19:27:09.676624Z",
     "shell.execute_reply": "2024-08-16T19:27:09.675220Z"
    },
    "papermill": {
     "duration": 0.28352,
     "end_time": "2024-08-16T19:27:09.679423",
     "exception": false,
     "start_time": "2024-08-16T19:27:09.395903",
     "status": "completed"
    },
    "tags": []
   },
   "outputs": [
    {
     "name": "stdout",
     "output_type": "stream",
     "text": [
      "              precision    recall  f1-score   support\n",
      "\n",
      "           0   0.999989  0.999978  0.999984    182519\n",
      "           1   0.999771  0.999886  0.999828     17481\n",
      "\n",
      "    accuracy                       0.999970    200000\n",
      "   macro avg   0.999880  0.999932  0.999906    200000\n",
      "weighted avg   0.999970  0.999970  0.999970    200000\n",
      "\n"
     ]
    }
   ],
   "source": [
    "print(classification_report(y_test, y_pred_clf, digits=6))"
   ]
  },
  {
   "cell_type": "code",
   "execution_count": 19,
   "id": "cd3cdd08",
   "metadata": {
    "execution": {
     "iopub.execute_input": "2024-08-16T19:27:09.710216Z",
     "iopub.status.busy": "2024-08-16T19:27:09.709801Z",
     "iopub.status.idle": "2024-08-16T19:27:09.717634Z",
     "shell.execute_reply": "2024-08-16T19:27:09.716192Z"
    },
    "papermill": {
     "duration": 0.026792,
     "end_time": "2024-08-16T19:27:09.720467",
     "exception": false,
     "start_time": "2024-08-16T19:27:09.693675",
     "status": "completed"
    },
    "tags": []
   },
   "outputs": [
    {
     "name": "stdout",
     "output_type": "stream",
     "text": [
      "distance_from_home : 0.274450893323212\n",
      "distance_from_last_transaction : 0.11163655748357369\n",
      "ratio_to_median_purchase_price : 0.5161254709897531\n",
      "repeat_retailer : 0.0031891934127224646\n",
      "used_chip : 0.02287898354026483\n",
      "used_pin_number : 0.016194253846008963\n",
      "online_order : 0.05552464740446494\n"
     ]
    }
   ],
   "source": [
    "importance = clf.feature_importances_\n",
    "\n",
    "# feature importance\n",
    "column_names=df.columns[:-1].to_list()\n",
    "for i,v in zip((importance),column_names):\n",
    "    print(f'{v} : {i}')"
   ]
  },
  {
   "cell_type": "code",
   "execution_count": 20,
   "id": "f38a879f",
   "metadata": {
    "execution": {
     "iopub.execute_input": "2024-08-16T19:27:09.751196Z",
     "iopub.status.busy": "2024-08-16T19:27:09.750718Z",
     "iopub.status.idle": "2024-08-16T19:27:10.023822Z",
     "shell.execute_reply": "2024-08-16T19:27:10.022560Z"
    },
    "papermill": {
     "duration": 0.291717,
     "end_time": "2024-08-16T19:27:10.026532",
     "exception": false,
     "start_time": "2024-08-16T19:27:09.734815",
     "status": "completed"
    },
    "tags": []
   },
   "outputs": [
    {
     "data": {
      "image/png": "[encoded data removed]",
      "text/plain": [
       "<Figure size 640x480 with 1 Axes>"
      ]
     },
     "metadata": {},
     "output_type": "display_data"
    }
   ],
   "source": [
    "plt.barh(column_names,importance)\n",
    "plt.xticks(rotation=90)\n",
    "plt.show()"
   ]
  },
  {
   "cell_type": "markdown",
   "id": "3020ad66",
   "metadata": {
    "papermill": {
     "duration": 0.014689,
     "end_time": "2024-08-16T19:27:10.056585",
     "exception": false,
     "start_time": "2024-08-16T19:27:10.041896",
     "status": "completed"
    },
    "tags": []
   },
   "source": [
    "# # **Logistic Regression**"
   ]
  },
  {
   "cell_type": "code",
   "execution_count": 21,
   "id": "c1122fd3",
   "metadata": {
    "execution": {
     "iopub.execute_input": "2024-08-16T19:27:10.088507Z",
     "iopub.status.busy": "2024-08-16T19:27:10.088075Z",
     "iopub.status.idle": "2024-08-16T19:27:29.685389Z",
     "shell.execute_reply": "2024-08-16T19:27:29.683778Z"
    },
    "papermill": {
     "duration": 19.618969,
     "end_time": "2024-08-16T19:27:29.690385",
     "exception": false,
     "start_time": "2024-08-16T19:27:10.071416",
     "status": "completed"
    },
    "tags": []
   },
   "outputs": [
    {
     "name": "stdout",
     "output_type": "stream",
     "text": [
      "Fitting 4 folds for each of 7 candidates, totalling 28 fits\n"
     ]
    },
    {
     "data": {
      "text/html": [
       "<style>#sk-container-id-3 {color: black;background-color: white;}#sk-container-id-3 pre{padding: 0;}#sk-container-id-3 div.sk-toggleable {background-color: white;}#sk-container-id-3 label.sk-toggleable__label {cursor: pointer;display: block;width: 100%;margin-bottom: 0;padding: 0.3em;box-sizing: border-box;text-align: center;}#sk-container-id-3 label.sk-toggleable__label-arrow:before {content: \"▸\";float: left;margin-right: 0.25em;color: #696969;}#sk-container-id-3 label.sk-toggleable__label-arrow:hover:before {color: black;}#sk-container-id-3 div.sk-estimator:hover label.sk-toggleable__label-arrow:before {color: black;}#sk-container-id-3 div.sk-toggleable__content {max-height: 0;max-width: 0;overflow: hidden;text-align: left;background-color: #f0f8ff;}#sk-container-id-3 div.sk-toggleable__content pre {margin: 0.2em;color: black;border-radius: 0.25em;background-color: #f0f8ff;}#sk-container-id-3 input.sk-toggleable__control:checked~div.sk-toggleable__content {max-height: 200px;max-width: 100%;overflow: auto;}#sk-container-id-3 input.sk-toggleable__control:checked~label.sk-toggleable__label-arrow:before {content: \"▾\";}#sk-container-id-3 div.sk-estimator input.sk-toggleable__control:checked~label.sk-toggleable__label {background-color: #d4ebff;}#sk-container-id-3 div.sk-label input.sk-toggleable__control:checked~label.sk-toggleable__label {background-color: #d4ebff;}#sk-container-id-3 input.sk-hidden--visually {border: 0;clip: rect(1px 1px 1px 1px);clip: rect(1px, 1px, 1px, 1px);height: 1px;margin: -1px;overflow: hidden;padding: 0;position: absolute;width: 1px;}#sk-container-id-3 div.sk-estimator {font-family: monospace;background-color: #f0f8ff;border: 1px dotted black;border-radius: 0.25em;box-sizing: border-box;margin-bottom: 0.5em;}#sk-container-id-3 div.sk-estimator:hover {background-color: #d4ebff;}#sk-container-id-3 div.sk-parallel-item::after {content: \"\";width: 100%;border-bottom: 1px solid gray;flex-grow: 1;}#sk-container-id-3 div.sk-label:hover label.sk-toggleable__label {background-color: #d4ebff;}#sk-container-id-3 div.sk-serial::before {content: \"\";position: absolute;border-left: 1px solid gray;box-sizing: border-box;top: 0;bottom: 0;left: 50%;z-index: 0;}#sk-container-id-3 div.sk-serial {display: flex;flex-direction: column;align-items: center;background-color: white;padding-right: 0.2em;padding-left: 0.2em;position: relative;}#sk-container-id-3 div.sk-item {position: relative;z-index: 1;}#sk-container-id-3 div.sk-parallel {display: flex;align-items: stretch;justify-content: center;background-color: white;position: relative;}#sk-container-id-3 div.sk-item::before, #sk-container-id-3 div.sk-parallel-item::before {content: \"\";position: absolute;border-left: 1px solid gray;box-sizing: border-box;top: 0;bottom: 0;left: 50%;z-index: -1;}#sk-container-id-3 div.sk-parallel-item {display: flex;flex-direction: column;z-index: 1;position: relative;background-color: white;}#sk-container-id-3 div.sk-parallel-item:first-child::after {align-self: flex-end;width: 50%;}#sk-container-id-3 div.sk-parallel-item:last-child::after {align-self: flex-start;width: 50%;}#sk-container-id-3 div.sk-parallel-item:only-child::after {width: 0;}#sk-container-id-3 div.sk-dashed-wrapped {border: 1px dashed gray;margin: 0 0.4em 0.5em 0.4em;box-sizing: border-box;padding-bottom: 0.4em;background-color: white;}#sk-container-id-3 div.sk-label label {font-family: monospace;font-weight: bold;display: inline-block;line-height: 1.2em;}#sk-container-id-3 div.sk-label-container {text-align: center;}#sk-container-id-3 div.sk-container {/* jupyter's `normalize.less` sets `[hidden] { display: none; }` but bootstrap.min.css set `[hidden] { display: none !important; }` so we also need the `!important` here to be able to override the default hidden behavior on the sphinx rendered scikit-learn.org. See: https://github.com/scikit-learn/scikit-learn/issues/21755 */display: inline-block !important;position: relative;}#sk-container-id-3 div.sk-text-repr-fallback {display: none;}</style><div id=\"sk-container-id-3\" class=\"sk-top-container\"><div class=\"sk-text-repr-fallback\"><pre>GridSearchCV(cv=4, estimator=LogisticRegression(), n_jobs=-1,\n",
       "             param_grid={&#x27;C&#x27;: array([1.e-03, 1.e-02, 1.e-01, 1.e+00, 1.e+01, 1.e+02, 1.e+03])},\n",
       "             scoring=&#x27;f1&#x27;, verbose=1)</pre><b>In a Jupyter environment, please rerun this cell to show the HTML representation or trust the notebook. <br />On GitHub, the HTML representation is unable to render, please try loading this page with nbviewer.org.</b></div><div class=\"sk-container\" hidden><div class=\"sk-item sk-dashed-wrapped\"><div class=\"sk-label-container\"><div class=\"sk-label sk-toggleable\"><input class=\"sk-toggleable__control sk-hidden--visually\" id=\"sk-estimator-id-5\" type=\"checkbox\" ><label for=\"sk-estimator-id-5\" class=\"sk-toggleable__label sk-toggleable__label-arrow\">GridSearchCV</label><div class=\"sk-toggleable__content\"><pre>GridSearchCV(cv=4, estimator=LogisticRegression(), n_jobs=-1,\n",
       "             param_grid={&#x27;C&#x27;: array([1.e-03, 1.e-02, 1.e-01, 1.e+00, 1.e+01, 1.e+02, 1.e+03])},\n",
       "             scoring=&#x27;f1&#x27;, verbose=1)</pre></div></div></div><div class=\"sk-parallel\"><div class=\"sk-parallel-item\"><div class=\"sk-item\"><div class=\"sk-label-container\"><div class=\"sk-label sk-toggleable\"><input class=\"sk-toggleable__control sk-hidden--visually\" id=\"sk-estimator-id-6\" type=\"checkbox\" ><label for=\"sk-estimator-id-6\" class=\"sk-toggleable__label sk-toggleable__label-arrow\">estimator: LogisticRegression</label><div class=\"sk-toggleable__content\"><pre>LogisticRegression()</pre></div></div></div><div class=\"sk-serial\"><div class=\"sk-item\"><div class=\"sk-estimator sk-toggleable\"><input class=\"sk-toggleable__control sk-hidden--visually\" id=\"sk-estimator-id-7\" type=\"checkbox\" ><label for=\"sk-estimator-id-7\" class=\"sk-toggleable__label sk-toggleable__label-arrow\">LogisticRegression</label><div class=\"sk-toggleable__content\"><pre>LogisticRegression()</pre></div></div></div></div></div></div></div></div></div></div>"
      ],
      "text/plain": [
       "GridSearchCV(cv=4, estimator=LogisticRegression(), n_jobs=-1,\n",
       "             param_grid={'C': array([1.e-03, 1.e-02, 1.e-01, 1.e+00, 1.e+01, 1.e+02, 1.e+03])},\n",
       "             scoring='f1', verbose=1)"
      ]
     },
     "execution_count": 21,
     "metadata": {},
     "output_type": "execute_result"
    }
   ],
   "source": [
    "grid={\"C\":np.logspace(-3,3,7)}\n",
    "logreg=LogisticRegression()\n",
    "logreg_cv=GridSearchCV(logreg,grid,cv=4,n_jobs=-1, verbose=1, scoring = \"f1\")\n",
    "logreg_cv.fit(X_over,y_over)"
   ]
  },
  {
   "cell_type": "code",
   "execution_count": 22,
   "id": "d8a39727",
   "metadata": {
    "execution": {
     "iopub.execute_input": "2024-08-16T19:27:29.758573Z",
     "iopub.status.busy": "2024-08-16T19:27:29.757682Z",
     "iopub.status.idle": "2024-08-16T19:27:29.778044Z",
     "shell.execute_reply": "2024-08-16T19:27:29.776457Z"
    },
    "papermill": {
     "duration": 0.056976,
     "end_time": "2024-08-16T19:27:29.780764",
     "exception": false,
     "start_time": "2024-08-16T19:27:29.723788",
     "status": "completed"
    },
    "tags": []
   },
   "outputs": [
    {
     "data": {
      "text/html": [
       "<style>#sk-container-id-4 {color: black;background-color: white;}#sk-container-id-4 pre{padding: 0;}#sk-container-id-4 div.sk-toggleable {background-color: white;}#sk-container-id-4 label.sk-toggleable__label {cursor: pointer;display: block;width: 100%;margin-bottom: 0;padding: 0.3em;box-sizing: border-box;text-align: center;}#sk-container-id-4 label.sk-toggleable__label-arrow:before {content: \"▸\";float: left;margin-right: 0.25em;color: #696969;}#sk-container-id-4 label.sk-toggleable__label-arrow:hover:before {color: black;}#sk-container-id-4 div.sk-estimator:hover label.sk-toggleable__label-arrow:before {color: black;}#sk-container-id-4 div.sk-toggleable__content {max-height: 0;max-width: 0;overflow: hidden;text-align: left;background-color: #f0f8ff;}#sk-container-id-4 div.sk-toggleable__content pre {margin: 0.2em;color: black;border-radius: 0.25em;background-color: #f0f8ff;}#sk-container-id-4 input.sk-toggleable__control:checked~div.sk-toggleable__content {max-height: 200px;max-width: 100%;overflow: auto;}#sk-container-id-4 input.sk-toggleable__control:checked~label.sk-toggleable__label-arrow:before {content: \"▾\";}#sk-container-id-4 div.sk-estimator input.sk-toggleable__control:checked~label.sk-toggleable__label {background-color: #d4ebff;}#sk-container-id-4 div.sk-label input.sk-toggleable__control:checked~label.sk-toggleable__label {background-color: #d4ebff;}#sk-container-id-4 input.sk-hidden--visually {border: 0;clip: rect(1px 1px 1px 1px);clip: rect(1px, 1px, 1px, 1px);height: 1px;margin: -1px;overflow: hidden;padding: 0;position: absolute;width: 1px;}#sk-container-id-4 div.sk-estimator {font-family: monospace;background-color: #f0f8ff;border: 1px dotted black;border-radius: 0.25em;box-sizing: border-box;margin-bottom: 0.5em;}#sk-container-id-4 div.sk-estimator:hover {background-color: #d4ebff;}#sk-container-id-4 div.sk-parallel-item::after {content: \"\";width: 100%;border-bottom: 1px solid gray;flex-grow: 1;}#sk-container-id-4 div.sk-label:hover label.sk-toggleable__label {background-color: #d4ebff;}#sk-container-id-4 div.sk-serial::before {content: \"\";position: absolute;border-left: 1px solid gray;box-sizing: border-box;top: 0;bottom: 0;left: 50%;z-index: 0;}#sk-container-id-4 div.sk-serial {display: flex;flex-direction: column;align-items: center;background-color: white;padding-right: 0.2em;padding-left: 0.2em;position: relative;}#sk-container-id-4 div.sk-item {position: relative;z-index: 1;}#sk-container-id-4 div.sk-parallel {display: flex;align-items: stretch;justify-content: center;background-color: white;position: relative;}#sk-container-id-4 div.sk-item::before, #sk-container-id-4 div.sk-parallel-item::before {content: \"\";position: absolute;border-left: 1px solid gray;box-sizing: border-box;top: 0;bottom: 0;left: 50%;z-index: -1;}#sk-container-id-4 div.sk-parallel-item {display: flex;flex-direction: column;z-index: 1;position: relative;background-color: white;}#sk-container-id-4 div.sk-parallel-item:first-child::after {align-self: flex-end;width: 50%;}#sk-container-id-4 div.sk-parallel-item:last-child::after {align-self: flex-start;width: 50%;}#sk-container-id-4 div.sk-parallel-item:only-child::after {width: 0;}#sk-container-id-4 div.sk-dashed-wrapped {border: 1px dashed gray;margin: 0 0.4em 0.5em 0.4em;box-sizing: border-box;padding-bottom: 0.4em;background-color: white;}#sk-container-id-4 div.sk-label label {font-family: monospace;font-weight: bold;display: inline-block;line-height: 1.2em;}#sk-container-id-4 div.sk-label-container {text-align: center;}#sk-container-id-4 div.sk-container {/* jupyter's `normalize.less` sets `[hidden] { display: none; }` but bootstrap.min.css set `[hidden] { display: none !important; }` so we also need the `!important` here to be able to override the default hidden behavior on the sphinx rendered scikit-learn.org. See: https://github.com/scikit-learn/scikit-learn/issues/21755 */display: inline-block !important;position: relative;}#sk-container-id-4 div.sk-text-repr-fallback {display: none;}</style><div id=\"sk-container-id-4\" class=\"sk-top-container\"><div class=\"sk-text-repr-fallback\"><pre>LogisticRegression(C=0.01)</pre><b>In a Jupyter environment, please rerun this cell to show the HTML representation or trust the notebook. <br />On GitHub, the HTML representation is unable to render, please try loading this page with nbviewer.org.</b></div><div class=\"sk-container\" hidden><div class=\"sk-item\"><div class=\"sk-estimator sk-toggleable\"><input class=\"sk-toggleable__control sk-hidden--visually\" id=\"sk-estimator-id-8\" type=\"checkbox\" checked><label for=\"sk-estimator-id-8\" class=\"sk-toggleable__label sk-toggleable__label-arrow\">LogisticRegression</label><div class=\"sk-toggleable__content\"><pre>LogisticRegression(C=0.01)</pre></div></div></div></div></div>"
      ],
      "text/plain": [
       "LogisticRegression(C=0.01)"
      ]
     },
     "execution_count": 22,
     "metadata": {},
     "output_type": "execute_result"
    }
   ],
   "source": [
    "logreg_cv.best_estimator_"
   ]
  },
  {
   "cell_type": "code",
   "execution_count": 23,
   "id": "462c614d",
   "metadata": {
    "execution": {
     "iopub.execute_input": "2024-08-16T19:27:29.814758Z",
     "iopub.status.busy": "2024-08-16T19:27:29.814334Z",
     "iopub.status.idle": "2024-08-16T19:27:32.687135Z",
     "shell.execute_reply": "2024-08-16T19:27:32.685570Z"
    },
    "papermill": {
     "duration": 2.895062,
     "end_time": "2024-08-16T19:27:32.691621",
     "exception": false,
     "start_time": "2024-08-16T19:27:29.796559",
     "status": "completed"
    },
    "tags": []
   },
   "outputs": [],
   "source": [
    "clf2=LogisticRegression(C=0.1)\n",
    "clf2 = clf2.fit(X_over,y_over)\n",
    "y_pred_clf2 = clf2.predict(X_test)"
   ]
  },
  {
   "cell_type": "code",
   "execution_count": 24,
   "id": "98c209e8",
   "metadata": {
    "execution": {
     "iopub.execute_input": "2024-08-16T19:27:32.758373Z",
     "iopub.status.busy": "2024-08-16T19:27:32.757711Z",
     "iopub.status.idle": "2024-08-16T19:27:33.127632Z",
     "shell.execute_reply": "2024-08-16T19:27:33.126201Z"
    },
    "papermill": {
     "duration": 0.406455,
     "end_time": "2024-08-16T19:27:33.130381",
     "exception": false,
     "start_time": "2024-08-16T19:27:32.723926",
     "status": "completed"
    },
    "tags": []
   },
   "outputs": [
    {
     "data": {
      "image/png": "[encoded data removed]",
      "text/plain": [
       "<Figure size 640x480 with 2 Axes>"
      ]
     },
     "metadata": {},
     "output_type": "display_data"
    }
   ],
   "source": [
    "confusion_matrix_clf = confusion_matrix(y_test, y_pred_clf2)\n",
    "\n",
    "disp = ConfusionMatrixDisplay(confusion_matrix=confusion_matrix_clf)\n",
    "disp.plot()\n",
    "\n",
    "plt.show()"
   ]
  },
  {
   "cell_type": "code",
   "execution_count": 25,
   "id": "0147cda3",
   "metadata": {
    "execution": {
     "iopub.execute_input": "2024-08-16T19:27:33.166697Z",
     "iopub.status.busy": "2024-08-16T19:27:33.165546Z",
     "iopub.status.idle": "2024-08-16T19:27:33.473538Z",
     "shell.execute_reply": "2024-08-16T19:27:33.472188Z"
    },
    "papermill": {
     "duration": 0.329582,
     "end_time": "2024-08-16T19:27:33.476967",
     "exception": false,
     "start_time": "2024-08-16T19:27:33.147385",
     "status": "completed"
    },
    "tags": []
   },
   "outputs": [
    {
     "name": "stdout",
     "output_type": "stream",
     "text": [
      "              precision    recall  f1-score   support\n",
      "\n",
      "           0   0.994892  0.932604  0.962742    182519\n",
      "           1   0.574478  0.950003  0.715989     17481\n",
      "\n",
      "    accuracy                       0.934125    200000\n",
      "   macro avg   0.784685  0.941304  0.839365    200000\n",
      "weighted avg   0.958145  0.934125  0.941174    200000\n",
      "\n"
     ]
    }
   ],
   "source": [
    "print(classification_report(y_test, y_pred_clf2, digits=6))"
   ]
  },
  {
   "cell_type": "code",
   "execution_count": 26,
   "id": "54b572b6",
   "metadata": {
    "execution": {
     "iopub.execute_input": "2024-08-16T19:27:33.514834Z",
     "iopub.status.busy": "2024-08-16T19:27:33.514301Z",
     "iopub.status.idle": "2024-08-16T19:27:33.522535Z",
     "shell.execute_reply": "2024-08-16T19:27:33.521381Z"
    },
    "papermill": {
     "duration": 0.029425,
     "end_time": "2024-08-16T19:27:33.525971",
     "exception": false,
     "start_time": "2024-08-16T19:27:33.496546",
     "status": "completed"
    },
    "tags": []
   },
   "outputs": [
    {
     "name": "stdout",
     "output_type": "stream",
     "text": [
      "distance_from_home : 1.911585868459268\n",
      "distance_from_last_transaction : 1.3270768963794077\n",
      "ratio_to_median_purchase_price : 3.3897669678268274\n",
      "repeat_retailer : -0.4591034897703508\n",
      "used_chip : -0.56939312317503\n",
      "used_pin_number : -2.985894422910454\n",
      "online_order : 2.404175052138563\n"
     ]
    }
   ],
   "source": [
    "importance = clf2.coef_[0]\n",
    "# feature importance\n",
    "column_names=df.columns[:-1].to_list()\n",
    "for i,v in zip((importance),column_names):\n",
    "    print(f'{v} : {i}')"
   ]
  },
  {
   "cell_type": "code",
   "execution_count": 27,
   "id": "73a94c21",
   "metadata": {
    "execution": {
     "iopub.execute_input": "2024-08-16T19:27:33.565896Z",
     "iopub.status.busy": "2024-08-16T19:27:33.565348Z",
     "iopub.status.idle": "2024-08-16T19:27:33.845489Z",
     "shell.execute_reply": "2024-08-16T19:27:33.844128Z"
    },
    "papermill": {
     "duration": 0.301444,
     "end_time": "2024-08-16T19:27:33.848640",
     "exception": false,
     "start_time": "2024-08-16T19:27:33.547196",
     "status": "completed"
    },
    "tags": []
   },
   "outputs": [
    {
     "data": {
      "image/png": "[encoded data removed]",
      "text/plain": [
       "<Figure size 640x480 with 1 Axes>"
      ]
     },
     "metadata": {},
     "output_type": "display_data"
    }
   ],
   "source": [
    "plt.barh(column_names,importance)\n",
    "plt.xticks(rotation=90)\n",
    "plt.show()"
   ]
  }
 ],
 "metadata": {
  "kaggle": {
   "accelerator": "none",
   "dataSources": [
    {
     "datasetId": 2156255,
     "sourceId": 3594108,
     "sourceType": "datasetVersion"
    },
    {
     "datasetId": 5553955,
     "sourceId": 9187730,
     "sourceType": "datasetVersion"
    },
    {
     "datasetId": 5553963,
     "sourceId": 9187738,
     "sourceType": "datasetVersion"
    }
   ],
   "dockerImageVersionId": 30746,
   "isGpuEnabled": false,
   "isInternetEnabled": false,
   "language": "python",
   "sourceType": "notebook"
  },
  "kernelspec": {
   "display_name": "Python 3",
   "language": "python",
   "name": "python3"
  },
  "language_info": {
   "codemirror_mode": {
    "name": "ipython",
    "version": 3
   },
   "file_extension": ".py",
   "mimetype": "text/x-python",
   "name": "python",
   "nbconvert_exporter": "python",
   "pygments_lexer": "ipython3",
   "version": "3.10.13"
  },
  "papermill": {
   "default_parameters": {},
   "duration": 540.185838,
   "end_time": "2024-08-16T19:27:36.491898",
   "environment_variables": {},
   "exception": null,
   "input_path": "__notebook__.ipynb",
   "output_path": "__notebook__.ipynb",
   "parameters": {},
   "start_time": "2024-08-16T19:18:36.306060",
   "version": "2.5.0"
  }
 },
 "nbformat": 4,
 "nbformat_minor": 5
}
